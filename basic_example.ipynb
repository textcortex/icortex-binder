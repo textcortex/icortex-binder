{
 "cells": [
  {
   "cell_type": "code",
   "execution_count": null,
   "id": "e976933a-530a-4a15-8eab-1a384da30e80",
   "metadata": {},
   "outputs": [],
   "source": [
    "%icortex service init textcortex"
   ]
  },
  {
   "cell_type": "code",
   "execution_count": null,
   "id": "a906bc41-3317-45fb-a554-2d393a2d55aa",
   "metadata": {},
   "outputs": [],
   "source": [
    "%prompt print fibonacci numbers up to 100"
   ]
  }
 ],
 "metadata": {
  "kernelspec": {
   "display_name": "ICortex",
   "language": "python",
   "name": "icortex"
  },
  "language_info": {
   "codemirror_mode": {
    "name": "ipython",
    "version": 3
   },
   "file_extension": ".py",
   "mimetype": "text/x-python",
   "name": "icortex",
   "pygments_lexer": "ipython3"
  }
 },
 "nbformat": 4,
 "nbformat_minor": 5
}
